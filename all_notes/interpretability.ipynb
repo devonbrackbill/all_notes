{
 "cells": [
  {
   "cell_type": "markdown",
   "metadata": {},
   "source": [
    "# Interpretability of Large Language Models\n",
    "\n",
    "We'd really like the individual neurons in LLMs to be easily interpretable. Unfortunately, they're mostly not. Neurons -- and more precisely, collections of neurons called circuits -- can be used in different ways as part of seeminglying unrelated logical circuits. This property is called **\"polysemantism\"** and makes it difficult for us to interpret how a circuit is being used."
   ]
  },
  {
   "cell_type": "markdown",
   "metadata": {},
   "source": [
    "## Anthropic Paper\n",
    "\n",
    "https://www.anthropic.com/news/mapping-mind-language-model"
   ]
  },
  {
   "cell_type": "markdown",
   "metadata": {},
   "source": [
    "## Dictionary Learning\n",
    "\n",
    "https://www.youtube.com/watch?app=desktop&v=Ri0ComuqS7Y&t=0\n",
    "\n"
   ]
  },
  {
   "cell_type": "markdown",
   "metadata": {},
   "source": [
    "## Monosemantic Features\n",
    "\n",
    "https://transformer-circuits.pub/2023/monosemantic-features/index.html\n",
    "\n",
    "## Feature Decomposition\n",
    "\n",
    "The underlying model has some activations, $x^j$, that we approximate as the linear combination of some fundamental features.\n",
    "\n",
    "$$\n",
    "x^j \\approx b + \\sum_i^{features} f_i(x^j) \\cdot d_i\n",
    "$$\n",
    "\n",
    "where $x^j$ is the activation vector of length $d_{MLP}$ for datapoint $j$. The MLP is the multi-layer perceptron that sits on top of the single attention block. The MLP has a ReLU activation, and is of size 512.\n",
    "\n",
    "\n",
    "## Further Questions\n",
    "1. What is the classical problem of \"dictionary learning\"?\n",
    "2. I don't quite understand the \"features as decompositions\" section. I.e., the exact math on the decompositions.\n",
    "3. Do you just replace the actual model activations with your simplified linear combination of feature activations? This would allow you to measure how well you approximate the actual model.\n",
    "\n",
    "## Interesting sources/further reading:\n",
    "1. This property is closely related to the desiderata of Causality, Generality, and Purity discussed in Cammarata et al. [25], and those provide an example of how we might make this property concrete in a specific instance.\n"
   ]
  },
  {
   "cell_type": "markdown",
   "metadata": {},
   "source": []
  }
 ],
 "metadata": {
  "kernelspec": {
   "display_name": "all_notes",
   "language": "python",
   "name": "python3"
  },
  "language_info": {
   "name": "python",
   "version": "3.11.8"
  }
 },
 "nbformat": 4,
 "nbformat_minor": 2
}
