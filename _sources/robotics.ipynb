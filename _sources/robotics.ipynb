{
 "cells": [
  {
   "cell_type": "markdown",
   "metadata": {},
   "source": [
    "# Robotics"
   ]
  },
  {
   "cell_type": "markdown",
   "metadata": {},
   "source": [
    "## Promising Data Collection Approaches\n",
    "\n",
    "1. Teleoperation\n",
    "2. AR Data: more of a way to communicate the robot's state of mind to the user (kind of a debugging tool)\n",
    "3. Simulation: NVIDIA seems to have a platform that allows 0-shot sim2real transfer\n",
    "4. Video learning"
   ]
  },
  {
   "cell_type": "markdown",
   "metadata": {},
   "source": [
    "## Robot Speed\n"
   ]
  }
 ],
 "metadata": {
  "language_info": {
   "name": "python"
  }
 },
 "nbformat": 4,
 "nbformat_minor": 2
}
